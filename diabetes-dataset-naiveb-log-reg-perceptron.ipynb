{
 "cells": [
  {
   "cell_type": "markdown",
   "metadata": {},
   "source": [
    "### K-Fold Cross Validation\n",
    "- This approach divides the inputs datasets into K groups of the samples of equal size.\n",
    "- Thess samples are called \"folds\" \n",
    "- For each learning set the prediction function uses k-1 folds for the training and remaining for test set.\n",
    "\n",
    "Data->5 folds-> F1,F2,F3,F4,F5-> In the first iteration F1 will be training set and remaining 4 sets are test set.\n",
    "\n",
    "Next F2 will be training set and F1,F3,F4 and F5 will be test set. The chain continuous.\n"
   ]
  },
  {
   "cell_type": "code",
   "execution_count": 2,
   "metadata": {
    "execution": {
     "iopub.execute_input": "2023-12-12T05:26:23.367514Z",
     "iopub.status.busy": "2023-12-12T05:26:23.367139Z",
     "iopub.status.idle": "2023-12-12T05:26:24.851457Z",
     "shell.execute_reply": "2023-12-12T05:26:24.850130Z",
     "shell.execute_reply.started": "2023-12-12T05:26:23.367477Z"
    }
   },
   "outputs": [],
   "source": [
    "# Import libraries\n",
    "import pandas as pd\n",
    "import numpy as np\n",
    "from sklearn.model_selection import KFold\n",
    "from sklearn.model_selection import cross_val_score\n",
    "from sklearn.ensemble import AdaBoostClassifier\n",
    "\n"
   ]
  },
  {
   "cell_type": "code",
   "execution_count": 3,
   "metadata": {
    "execution": {
     "iopub.execute_input": "2023-12-12T05:26:24.853166Z",
     "iopub.status.busy": "2023-12-12T05:26:24.852810Z",
     "iopub.status.idle": "2023-12-12T05:26:24.870507Z",
     "shell.execute_reply": "2023-12-12T05:26:24.869471Z",
     "shell.execute_reply.started": "2023-12-12T05:26:24.853131Z"
    }
   },
   "outputs": [],
   "source": [
    "data=pd.read_csv(\"/kaggle/input/pima-indians-diabetes-database/diabetes.csv\")"
   ]
  },
  {
   "cell_type": "code",
   "execution_count": 4,
   "metadata": {
    "execution": {
     "iopub.execute_input": "2023-12-12T05:26:24.872307Z",
     "iopub.status.busy": "2023-12-12T05:26:24.871674Z",
     "iopub.status.idle": "2023-12-12T05:26:24.898204Z",
     "shell.execute_reply": "2023-12-12T05:26:24.897052Z",
     "shell.execute_reply.started": "2023-12-12T05:26:24.872224Z"
    }
   },
   "outputs": [
    {
     "data": {
      "text/html": [
       "<div>\n",
       "<style scoped>\n",
       "    .dataframe tbody tr th:only-of-type {\n",
       "        vertical-align: middle;\n",
       "    }\n",
       "\n",
       "    .dataframe tbody tr th {\n",
       "        vertical-align: top;\n",
       "    }\n",
       "\n",
       "    .dataframe thead th {\n",
       "        text-align: right;\n",
       "    }\n",
       "</style>\n",
       "<table border=\"1\" class=\"dataframe\">\n",
       "  <thead>\n",
       "    <tr style=\"text-align: right;\">\n",
       "      <th></th>\n",
       "      <th>Pregnancies</th>\n",
       "      <th>Glucose</th>\n",
       "      <th>BloodPressure</th>\n",
       "      <th>SkinThickness</th>\n",
       "      <th>Insulin</th>\n",
       "      <th>BMI</th>\n",
       "      <th>DiabetesPedigreeFunction</th>\n",
       "      <th>Age</th>\n",
       "      <th>Outcome</th>\n",
       "    </tr>\n",
       "  </thead>\n",
       "  <tbody>\n",
       "    <tr>\n",
       "      <th>0</th>\n",
       "      <td>6</td>\n",
       "      <td>148</td>\n",
       "      <td>72</td>\n",
       "      <td>35</td>\n",
       "      <td>0</td>\n",
       "      <td>33.6</td>\n",
       "      <td>0.627</td>\n",
       "      <td>50</td>\n",
       "      <td>1</td>\n",
       "    </tr>\n",
       "    <tr>\n",
       "      <th>1</th>\n",
       "      <td>1</td>\n",
       "      <td>85</td>\n",
       "      <td>66</td>\n",
       "      <td>29</td>\n",
       "      <td>0</td>\n",
       "      <td>26.6</td>\n",
       "      <td>0.351</td>\n",
       "      <td>31</td>\n",
       "      <td>0</td>\n",
       "    </tr>\n",
       "    <tr>\n",
       "      <th>2</th>\n",
       "      <td>8</td>\n",
       "      <td>183</td>\n",
       "      <td>64</td>\n",
       "      <td>0</td>\n",
       "      <td>0</td>\n",
       "      <td>23.3</td>\n",
       "      <td>0.672</td>\n",
       "      <td>32</td>\n",
       "      <td>1</td>\n",
       "    </tr>\n",
       "    <tr>\n",
       "      <th>3</th>\n",
       "      <td>1</td>\n",
       "      <td>89</td>\n",
       "      <td>66</td>\n",
       "      <td>23</td>\n",
       "      <td>94</td>\n",
       "      <td>28.1</td>\n",
       "      <td>0.167</td>\n",
       "      <td>21</td>\n",
       "      <td>0</td>\n",
       "    </tr>\n",
       "    <tr>\n",
       "      <th>4</th>\n",
       "      <td>0</td>\n",
       "      <td>137</td>\n",
       "      <td>40</td>\n",
       "      <td>35</td>\n",
       "      <td>168</td>\n",
       "      <td>43.1</td>\n",
       "      <td>2.288</td>\n",
       "      <td>33</td>\n",
       "      <td>1</td>\n",
       "    </tr>\n",
       "  </tbody>\n",
       "</table>\n",
       "</div>"
      ],
      "text/plain": [
       "   Pregnancies  Glucose  BloodPressure  SkinThickness  Insulin   BMI  \\\n",
       "0            6      148             72             35        0  33.6   \n",
       "1            1       85             66             29        0  26.6   \n",
       "2            8      183             64              0        0  23.3   \n",
       "3            1       89             66             23       94  28.1   \n",
       "4            0      137             40             35      168  43.1   \n",
       "\n",
       "   DiabetesPedigreeFunction  Age  Outcome  \n",
       "0                     0.627   50        1  \n",
       "1                     0.351   31        0  \n",
       "2                     0.672   32        1  \n",
       "3                     0.167   21        0  \n",
       "4                     2.288   33        1  "
      ]
     },
     "execution_count": 4,
     "metadata": {},
     "output_type": "execute_result"
    }
   ],
   "source": [
    "data.head()"
   ]
  },
  {
   "cell_type": "code",
   "execution_count": 5,
   "metadata": {
    "execution": {
     "iopub.execute_input": "2023-12-12T05:26:24.901957Z",
     "iopub.status.busy": "2023-12-12T05:26:24.901654Z",
     "iopub.status.idle": "2023-12-12T05:26:24.909793Z",
     "shell.execute_reply": "2023-12-12T05:26:24.908591Z",
     "shell.execute_reply.started": "2023-12-12T05:26:24.901930Z"
    }
   },
   "outputs": [],
   "source": [
    "x=data.iloc[:,0:8].values\n",
    "y=data.iloc[:,8].values"
   ]
  },
  {
   "cell_type": "code",
   "execution_count": 6,
   "metadata": {
    "execution": {
     "iopub.execute_input": "2023-12-12T05:26:24.911460Z",
     "iopub.status.busy": "2023-12-12T05:26:24.911175Z",
     "iopub.status.idle": "2023-12-12T05:26:24.924056Z",
     "shell.execute_reply": "2023-12-12T05:26:24.922389Z",
     "shell.execute_reply.started": "2023-12-12T05:26:24.911434Z"
    }
   },
   "outputs": [
    {
     "data": {
      "text/plain": [
       "array([[  6.   , 148.   ,  72.   , ...,  33.6  ,   0.627,  50.   ],\n",
       "       [  1.   ,  85.   ,  66.   , ...,  26.6  ,   0.351,  31.   ],\n",
       "       [  8.   , 183.   ,  64.   , ...,  23.3  ,   0.672,  32.   ],\n",
       "       ...,\n",
       "       [  5.   , 121.   ,  72.   , ...,  26.2  ,   0.245,  30.   ],\n",
       "       [  1.   , 126.   ,  60.   , ...,  30.1  ,   0.349,  47.   ],\n",
       "       [  1.   ,  93.   ,  70.   , ...,  30.4  ,   0.315,  23.   ]])"
      ]
     },
     "execution_count": 6,
     "metadata": {},
     "output_type": "execute_result"
    }
   ],
   "source": [
    "x"
   ]
  },
  {
   "cell_type": "code",
   "execution_count": 7,
   "metadata": {
    "execution": {
     "iopub.execute_input": "2023-12-12T05:26:24.925810Z",
     "iopub.status.busy": "2023-12-12T05:26:24.925358Z",
     "iopub.status.idle": "2023-12-12T05:26:24.937033Z",
     "shell.execute_reply": "2023-12-12T05:26:24.935804Z",
     "shell.execute_reply.started": "2023-12-12T05:26:24.925774Z"
    }
   },
   "outputs": [
    {
     "data": {
      "text/plain": [
       "array([1, 0, 1, 0, 1, 0, 1, 0, 1, 1, 0, 1, 0, 1, 1, 1, 1, 1, 0, 1, 0, 0,\n",
       "       1, 1, 1, 1, 1, 0, 0, 0, 0, 1, 0, 0, 0, 0, 0, 1, 1, 1, 0, 0, 0, 1,\n",
       "       0, 1, 0, 0, 1, 0, 0, 0, 0, 1, 0, 0, 1, 0, 0, 0, 0, 1, 0, 0, 1, 0,\n",
       "       1, 0, 0, 0, 1, 0, 1, 0, 0, 0, 0, 0, 1, 0, 0, 0, 0, 0, 1, 0, 0, 0,\n",
       "       1, 0, 0, 0, 0, 1, 0, 0, 0, 0, 0, 1, 1, 0, 0, 0, 0, 0, 0, 0, 0, 1,\n",
       "       1, 1, 0, 0, 1, 1, 1, 0, 0, 0, 1, 0, 0, 0, 1, 1, 0, 0, 1, 1, 1, 1,\n",
       "       1, 0, 0, 0, 0, 0, 0, 0, 0, 0, 0, 1, 0, 0, 0, 0, 0, 0, 0, 0, 1, 0,\n",
       "       1, 1, 0, 0, 0, 1, 0, 0, 0, 0, 1, 1, 0, 0, 0, 0, 1, 1, 0, 0, 0, 1,\n",
       "       0, 1, 0, 1, 0, 0, 0, 0, 0, 1, 1, 1, 1, 1, 0, 0, 1, 1, 0, 1, 0, 1,\n",
       "       1, 1, 0, 0, 0, 0, 0, 0, 1, 1, 0, 1, 0, 0, 0, 1, 1, 1, 1, 0, 1, 1,\n",
       "       1, 1, 0, 0, 0, 0, 0, 1, 0, 0, 1, 1, 0, 0, 0, 1, 1, 1, 1, 0, 0, 0,\n",
       "       1, 1, 0, 1, 0, 0, 0, 0, 0, 0, 0, 0, 1, 1, 0, 0, 0, 1, 0, 1, 0, 0,\n",
       "       1, 0, 1, 0, 0, 1, 1, 0, 0, 0, 0, 0, 1, 0, 0, 0, 1, 0, 0, 1, 1, 0,\n",
       "       0, 1, 0, 0, 0, 1, 1, 1, 0, 0, 1, 0, 1, 0, 1, 1, 0, 1, 0, 0, 1, 0,\n",
       "       1, 1, 0, 0, 1, 0, 1, 0, 0, 1, 0, 1, 0, 1, 1, 1, 0, 0, 1, 0, 1, 0,\n",
       "       0, 0, 1, 0, 0, 0, 0, 1, 1, 1, 0, 0, 0, 0, 0, 0, 0, 0, 0, 1, 0, 0,\n",
       "       0, 0, 0, 1, 1, 1, 0, 1, 1, 0, 0, 1, 0, 0, 1, 0, 0, 1, 1, 0, 0, 0,\n",
       "       0, 1, 0, 0, 1, 0, 0, 0, 0, 0, 0, 0, 1, 1, 1, 0, 0, 1, 0, 0, 1, 0,\n",
       "       0, 1, 0, 1, 1, 0, 1, 0, 1, 0, 1, 0, 1, 1, 0, 0, 0, 0, 1, 1, 0, 1,\n",
       "       0, 1, 0, 0, 0, 0, 1, 1, 0, 1, 0, 1, 0, 0, 0, 0, 0, 1, 0, 0, 0, 0,\n",
       "       1, 0, 0, 1, 1, 1, 0, 0, 1, 0, 0, 1, 0, 0, 0, 1, 0, 0, 1, 0, 0, 0,\n",
       "       0, 0, 0, 0, 0, 0, 1, 0, 0, 0, 0, 0, 0, 0, 1, 0, 0, 0, 1, 0, 0, 0,\n",
       "       1, 1, 0, 0, 0, 0, 0, 0, 0, 1, 0, 0, 0, 0, 1, 0, 0, 0, 1, 0, 0, 0,\n",
       "       1, 0, 0, 0, 1, 0, 0, 0, 0, 1, 1, 0, 0, 0, 0, 0, 0, 1, 0, 0, 0, 0,\n",
       "       0, 0, 0, 0, 0, 0, 0, 1, 0, 0, 0, 1, 1, 1, 1, 0, 0, 1, 1, 0, 0, 0,\n",
       "       0, 0, 0, 0, 0, 0, 0, 0, 0, 0, 1, 1, 0, 0, 0, 0, 0, 0, 0, 1, 0, 0,\n",
       "       0, 0, 0, 0, 0, 1, 0, 1, 1, 0, 0, 0, 1, 0, 1, 0, 1, 0, 1, 0, 1, 0,\n",
       "       0, 1, 0, 0, 1, 0, 0, 0, 0, 1, 1, 0, 1, 0, 0, 0, 0, 1, 1, 0, 1, 0,\n",
       "       0, 0, 1, 1, 0, 0, 0, 0, 0, 0, 0, 0, 0, 0, 1, 0, 0, 0, 0, 1, 0, 0,\n",
       "       1, 0, 0, 0, 1, 0, 0, 0, 1, 1, 1, 0, 0, 0, 0, 0, 0, 1, 0, 0, 0, 1,\n",
       "       0, 1, 1, 1, 1, 0, 1, 1, 0, 0, 0, 0, 0, 0, 0, 1, 1, 0, 1, 0, 0, 1,\n",
       "       0, 1, 0, 0, 0, 0, 0, 1, 0, 1, 0, 1, 0, 1, 1, 0, 0, 0, 0, 1, 1, 0,\n",
       "       0, 0, 1, 0, 1, 1, 0, 0, 1, 0, 0, 1, 1, 0, 0, 1, 0, 0, 1, 0, 0, 0,\n",
       "       0, 0, 0, 0, 1, 1, 1, 0, 0, 0, 0, 0, 0, 1, 1, 0, 0, 1, 0, 0, 1, 0,\n",
       "       1, 1, 1, 0, 0, 1, 1, 1, 0, 1, 0, 1, 0, 1, 0, 0, 0, 0, 1, 0])"
      ]
     },
     "execution_count": 7,
     "metadata": {},
     "output_type": "execute_result"
    }
   ],
   "source": [
    "y"
   ]
  },
  {
   "cell_type": "code",
   "execution_count": 8,
   "metadata": {
    "execution": {
     "iopub.execute_input": "2023-12-12T05:26:24.938706Z",
     "iopub.status.busy": "2023-12-12T05:26:24.938345Z",
     "iopub.status.idle": "2023-12-12T05:26:24.944553Z",
     "shell.execute_reply": "2023-12-12T05:26:24.943788Z",
     "shell.execute_reply.started": "2023-12-12T05:26:24.938673Z"
    }
   },
   "outputs": [],
   "source": [
    "kfolds=KFold(n_splits=10,random_state=5,shuffle=True)"
   ]
  },
  {
   "cell_type": "code",
   "execution_count": 9,
   "metadata": {
    "execution": {
     "iopub.execute_input": "2023-12-12T05:26:24.946068Z",
     "iopub.status.busy": "2023-12-12T05:26:24.945794Z",
     "iopub.status.idle": "2023-12-12T05:26:24.956422Z",
     "shell.execute_reply": "2023-12-12T05:26:24.954609Z",
     "shell.execute_reply.started": "2023-12-12T05:26:24.946039Z"
    }
   },
   "outputs": [],
   "source": [
    "model1=AdaBoostClassifier(n_estimators=50,random_state=5)"
   ]
  },
  {
   "cell_type": "code",
   "execution_count": 10,
   "metadata": {
    "execution": {
     "iopub.execute_input": "2023-12-12T05:26:24.958353Z",
     "iopub.status.busy": "2023-12-12T05:26:24.957990Z",
     "iopub.status.idle": "2023-12-12T05:26:25.873366Z",
     "shell.execute_reply": "2023-12-12T05:26:25.871136Z",
     "shell.execute_reply.started": "2023-12-12T05:26:24.958318Z"
    }
   },
   "outputs": [
    {
     "name": "stdout",
     "output_type": "stream",
     "text": [
      "0.7616883116883117\n"
     ]
    }
   ],
   "source": [
    "results=cross_val_score(model1,x,y,cv=kfolds)\n",
    "print(results.mean())"
   ]
  },
  {
   "cell_type": "code",
   "execution_count": 11,
   "metadata": {
    "execution": {
     "iopub.execute_input": "2023-12-12T05:26:25.878141Z",
     "iopub.status.busy": "2023-12-12T05:26:25.876459Z",
     "iopub.status.idle": "2023-12-12T05:26:25.883332Z",
     "shell.execute_reply": "2023-12-12T05:26:25.882435Z",
     "shell.execute_reply.started": "2023-12-12T05:26:25.878052Z"
    }
   },
   "outputs": [],
   "source": [
    "# lets implement the data operation with RandomForest Classifier as the base_estimater\n",
    "from sklearn.ensemble import RandomForestClassifier"
   ]
  },
  {
   "cell_type": "code",
   "execution_count": 12,
   "metadata": {
    "execution": {
     "iopub.execute_input": "2023-12-12T05:26:25.885931Z",
     "iopub.status.busy": "2023-12-12T05:26:25.884785Z",
     "iopub.status.idle": "2023-12-12T05:26:25.904943Z",
     "shell.execute_reply": "2023-12-12T05:26:25.903297Z",
     "shell.execute_reply.started": "2023-12-12T05:26:25.885883Z"
    }
   },
   "outputs": [],
   "source": [
    "clf=AdaBoostClassifier(random_state=5,n_estimators=100,base_estimator=RandomForestClassifier(random_state=101))"
   ]
  },
  {
   "cell_type": "code",
   "execution_count": 13,
   "metadata": {
    "execution": {
     "iopub.execute_input": "2023-12-12T05:26:25.907724Z",
     "iopub.status.busy": "2023-12-12T05:26:25.906937Z",
     "iopub.status.idle": "2023-12-12T05:26:26.155842Z",
     "shell.execute_reply": "2023-12-12T05:26:26.154736Z",
     "shell.execute_reply.started": "2023-12-12T05:26:25.907674Z"
    }
   },
   "outputs": [
    {
     "data": {
      "text/plain": [
       "AdaBoostClassifier(base_estimator=RandomForestClassifier(random_state=101),\n",
       "                   n_estimators=100, random_state=5)"
      ]
     },
     "execution_count": 13,
     "metadata": {},
     "output_type": "execute_result"
    }
   ],
   "source": [
    "clf.fit(x,y)"
   ]
  },
  {
   "cell_type": "code",
   "execution_count": 14,
   "metadata": {
    "execution": {
     "iopub.execute_input": "2023-12-12T05:26:26.161648Z",
     "iopub.status.busy": "2023-12-12T05:26:26.160334Z",
     "iopub.status.idle": "2023-12-12T05:26:28.336253Z",
     "shell.execute_reply": "2023-12-12T05:26:28.334962Z",
     "shell.execute_reply.started": "2023-12-12T05:26:26.161613Z"
    }
   },
   "outputs": [],
   "source": [
    "results2=cross_val_score(clf,x,y,cv=kfolds)"
   ]
  },
  {
   "cell_type": "code",
   "execution_count": 15,
   "metadata": {
    "execution": {
     "iopub.execute_input": "2023-12-12T05:26:28.338685Z",
     "iopub.status.busy": "2023-12-12T05:26:28.337551Z",
     "iopub.status.idle": "2023-12-12T05:26:28.345631Z",
     "shell.execute_reply": "2023-12-12T05:26:28.343778Z",
     "shell.execute_reply.started": "2023-12-12T05:26:28.338641Z"
    }
   },
   "outputs": [
    {
     "name": "stdout",
     "output_type": "stream",
     "text": [
      "0.7643369788106631\n"
     ]
    }
   ],
   "source": [
    "print(results2.mean())"
   ]
  },
  {
   "cell_type": "code",
   "execution_count": 16,
   "metadata": {
    "execution": {
     "iopub.execute_input": "2023-12-12T05:26:28.348249Z",
     "iopub.status.busy": "2023-12-12T05:26:28.347416Z",
     "iopub.status.idle": "2023-12-12T05:26:28.359247Z",
     "shell.execute_reply": "2023-12-12T05:26:28.357884Z",
     "shell.execute_reply.started": "2023-12-12T05:26:28.348202Z"
    }
   },
   "outputs": [],
   "source": [
    "from sklearn.model_selection import train_test_split\n",
    "x_train,x_test,y_train,y_test=train_test_split(x,y,test_size=0.3)"
   ]
  },
  {
   "cell_type": "code",
   "execution_count": 17,
   "metadata": {
    "execution": {
     "iopub.execute_input": "2023-12-12T05:26:28.360856Z",
     "iopub.status.busy": "2023-12-12T05:26:28.360501Z",
     "iopub.status.idle": "2023-12-12T05:26:28.379144Z",
     "shell.execute_reply": "2023-12-12T05:26:28.377325Z",
     "shell.execute_reply.started": "2023-12-12T05:26:28.360824Z"
    }
   },
   "outputs": [],
   "source": [
    "from sklearn.linear_model import Perceptron\n",
    "from sklearn.neighbors import KNeighborsClassifier\n",
    "from sklearn.linear_model import LogisticRegression\n",
    "from sklearn.naive_bayes import GaussianNB\n",
    "\n",
    "NaiveB=GaussianNB()\n",
    "log_reg=LogisticRegression()\n",
    "perceptron=Perceptron()"
   ]
  },
  {
   "cell_type": "code",
   "execution_count": 18,
   "metadata": {
    "execution": {
     "iopub.execute_input": "2023-12-12T05:26:28.384241Z",
     "iopub.status.busy": "2023-12-12T05:26:28.383058Z",
     "iopub.status.idle": "2023-12-12T05:26:28.391497Z",
     "shell.execute_reply": "2023-12-12T05:26:28.389838Z",
     "shell.execute_reply.started": "2023-12-12T05:26:28.384182Z"
    }
   },
   "outputs": [],
   "source": [
    "classifier1=AdaBoostClassifier(n_estimators=50,base_estimator=NaiveB,learning_rate=1,algorithm='SAMME')\n",
    "classifier2=AdaBoostClassifier(n_estimators=50,base_estimator=log_reg,learning_rate=1,algorithm='SAMME')\n",
    "classifier3=AdaBoostClassifier(n_estimators=50,base_estimator=perceptron,learning_rate=1,algorithm='SAMME')"
   ]
  },
  {
   "cell_type": "code",
   "execution_count": 19,
   "metadata": {
    "execution": {
     "iopub.execute_input": "2023-12-12T05:26:28.393369Z",
     "iopub.status.busy": "2023-12-12T05:26:28.393074Z",
     "iopub.status.idle": "2023-12-12T05:26:28.497659Z",
     "shell.execute_reply": "2023-12-12T05:26:28.496664Z",
     "shell.execute_reply.started": "2023-12-12T05:26:28.393339Z"
    }
   },
   "outputs": [
    {
     "name": "stderr",
     "output_type": "stream",
     "text": [
      "/opt/conda/lib/python3.7/site-packages/sklearn/linear_model/_logistic.py:818: ConvergenceWarning: lbfgs failed to converge (status=1):\n",
      "STOP: TOTAL NO. of ITERATIONS REACHED LIMIT.\n",
      "\n",
      "Increase the number of iterations (max_iter) or scale the data as shown in:\n",
      "    https://scikit-learn.org/stable/modules/preprocessing.html\n",
      "Please also refer to the documentation for alternative solver options:\n",
      "    https://scikit-learn.org/stable/modules/linear_model.html#logistic-regression\n",
      "  extra_warning_msg=_LOGISTIC_SOLVER_CONVERGENCE_MSG,\n",
      "/opt/conda/lib/python3.7/site-packages/sklearn/linear_model/_logistic.py:818: ConvergenceWarning: lbfgs failed to converge (status=1):\n",
      "STOP: TOTAL NO. of ITERATIONS REACHED LIMIT.\n",
      "\n",
      "Increase the number of iterations (max_iter) or scale the data as shown in:\n",
      "    https://scikit-learn.org/stable/modules/preprocessing.html\n",
      "Please also refer to the documentation for alternative solver options:\n",
      "    https://scikit-learn.org/stable/modules/linear_model.html#logistic-regression\n",
      "  extra_warning_msg=_LOGISTIC_SOLVER_CONVERGENCE_MSG,\n",
      "/opt/conda/lib/python3.7/site-packages/sklearn/linear_model/_logistic.py:818: ConvergenceWarning: lbfgs failed to converge (status=1):\n",
      "STOP: TOTAL NO. of ITERATIONS REACHED LIMIT.\n",
      "\n",
      "Increase the number of iterations (max_iter) or scale the data as shown in:\n",
      "    https://scikit-learn.org/stable/modules/preprocessing.html\n",
      "Please also refer to the documentation for alternative solver options:\n",
      "    https://scikit-learn.org/stable/modules/linear_model.html#logistic-regression\n",
      "  extra_warning_msg=_LOGISTIC_SOLVER_CONVERGENCE_MSG,\n"
     ]
    }
   ],
   "source": [
    "model1=classifier1.fit(x_train,y_train)\n",
    "model2=classifier2.fit(x_train,y_train)\n",
    "model3=classifier3.fit(x_train,y_train)"
   ]
  },
  {
   "cell_type": "code",
   "execution_count": 20,
   "metadata": {
    "execution": {
     "iopub.execute_input": "2023-12-12T05:26:28.499917Z",
     "iopub.status.busy": "2023-12-12T05:26:28.498948Z",
     "iopub.status.idle": "2023-12-12T05:26:28.509523Z",
     "shell.execute_reply": "2023-12-12T05:26:28.508339Z",
     "shell.execute_reply.started": "2023-12-12T05:26:28.499879Z"
    }
   },
   "outputs": [],
   "source": [
    "y_pred1=model1.predict(x_test)\n",
    "y_pred2=model2.predict(x_test)\n",
    "y_pred3=model3.predict(x_test)"
   ]
  },
  {
   "cell_type": "code",
   "execution_count": 21,
   "metadata": {
    "execution": {
     "iopub.execute_input": "2023-12-12T05:26:28.511413Z",
     "iopub.status.busy": "2023-12-12T05:26:28.511038Z",
     "iopub.status.idle": "2023-12-12T05:26:28.520135Z",
     "shell.execute_reply": "2023-12-12T05:26:28.518918Z",
     "shell.execute_reply.started": "2023-12-12T05:26:28.511382Z"
    }
   },
   "outputs": [
    {
     "name": "stdout",
     "output_type": "stream",
     "text": [
      "Accuracy of model1 0.7056277056277056\n",
      "Accuracy of model2 0.7142857142857143\n",
      "Accuracy of model3 0.5800865800865801\n"
     ]
    }
   ],
   "source": [
    "from sklearn.metrics import accuracy_score\n",
    "print(\"Accuracy of model1\", accuracy_score(y_test,y_pred1))\n",
    "print(\"Accuracy of model2\", accuracy_score(y_test,y_pred2))\n",
    "print(\"Accuracy of model3\", accuracy_score(y_test,y_pred3))"
   ]
  },
  {
   "cell_type": "code",
   "execution_count": null,
   "metadata": {},
   "outputs": [],
   "source": []
  }
 ],
 "metadata": {
  "kaggle": {
   "accelerator": "none",
   "dataSources": [
    {
     "datasetId": 228,
     "sourceId": 482,
     "sourceType": "datasetVersion"
    }
   ],
   "dockerImageVersionId": 30458,
   "isGpuEnabled": false,
   "isInternetEnabled": true,
   "language": "python",
   "sourceType": "notebook"
  },
  "kernelspec": {
   "display_name": "Python 3 (ipykernel)",
   "language": "python",
   "name": "python3"
  },
  "language_info": {
   "codemirror_mode": {
    "name": "ipython",
    "version": 3
   },
   "file_extension": ".py",
   "mimetype": "text/x-python",
   "name": "python",
   "nbconvert_exporter": "python",
   "pygments_lexer": "ipython3",
   "version": "3.10.9"
  }
 },
 "nbformat": 4,
 "nbformat_minor": 4
}
